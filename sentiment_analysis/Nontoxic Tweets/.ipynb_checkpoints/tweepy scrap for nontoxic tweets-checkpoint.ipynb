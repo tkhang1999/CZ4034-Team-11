{
 "cells": [
  {
   "cell_type": "code",
   "execution_count": 1,
   "metadata": {},
   "outputs": [],
   "source": [
    "import os\n",
    "import tweepy as tw\n",
    "import pandas as pd"
   ]
  },
  {
   "cell_type": "code",
   "execution_count": 2,
   "metadata": {},
   "outputs": [],
   "source": [
    "#Add your credentials here\n",
    "twitter_keys = {\n",
    "        'consumer_key':        'DY6bpywglf35jBV9RLfe12Rly',\n",
    "        'consumer_secret':     'YVHXvmWd1dr4HMY7kDPYlqv56wq3xBcokz9T6CzjYyIglJVSBL',\n",
    "        'access_token_key':    '1331467933214621702-vTWiqTQCghYXjiS1ztfzEI4Rimjtmg',\n",
    "        'access_token_secret': 'uqb6yVfV5QH3lTgqUtwTgQ4BHKJa1BUZCU6Hy3ucEwLuR'\n",
    "    }\n",
    "\n",
    "#Setup access to API\n",
    "auth = tw.OAuthHandler(twitter_keys['consumer_key'], twitter_keys['consumer_secret'])\n",
    "auth.set_access_token(twitter_keys['access_token_key'], twitter_keys['access_token_secret'])\n",
    "\n",
    "api = tw.API(auth,wait_on_rate_limit=True)\n"
   ]
  },
  {
   "cell_type": "code",
   "execution_count": 3,
   "metadata": {},
   "outputs": [],
   "source": [
    "def extract_place(row):\n",
    "    if row['associated_place']:\n",
    "        return row['associated_place'].full_name\n",
    "    else:\n",
    "        return None\n",
    "    \n",
    "def extract_location(row):\n",
    "    if row['user_location']:\n",
    "        return row['user_location']\n",
    "    else:\n",
    "        return None"
   ]
  },
  {
   "cell_type": "code",
   "execution_count": null,
   "metadata": {},
   "outputs": [],
   "source": [
    "text_query = 'e OR a OR r OR i OR o -has:geo'\n",
    "max_tweets = 5000\n",
    " \n",
    "# Creation of query method using parameters\n",
    "tweets = tw.Cursor(api.search,q=text_query,lang=\"en\").items(max_tweets)\n",
    " \n",
    "# Pulling information from tweets iterable object\n",
    "# Add or remove tweet information you want in the below list comprehension\n",
    "tweets_list = [[tweet.text, \n",
    "                tweet.created_at, \n",
    "                tweet.id_str, \n",
    "                tweet.user.name, \n",
    "                tweet.user.screen_name, \n",
    "                tweet.user.id_str, \n",
    "                tweet.user.location, \n",
    "                tweet.user.description, \n",
    "                tweet.user.verified, \n",
    "                tweet.place,\n",
    "                tweet.retweet_count] for tweet in tweets]\n",
    " \n",
    "# Creation of dataframe from tweets_list\n",
    "# Did not include column names to simplify code \n",
    "tweets_df = pd.DataFrame(tweets_list)"
   ]
  },
  {
   "cell_type": "code",
   "execution_count": null,
   "metadata": {},
   "outputs": [],
   "source": [
    "tweets_df = pd.DataFrame(tweets_list)\n",
    "tweets_df.columns = ['text', 'created_date_time','tweet_id','username','user_screen_name','user_id','user_location',\n",
    "                     'user_description','verified','associated_place','retweet_count']\n",
    "tweets_df.head()"
   ]
  },
  {
   "cell_type": "code",
   "execution_count": null,
   "metadata": {},
   "outputs": [],
   "source": [
    "tweets_df['associated_place'] = tweets_df.apply(extract_place,axis=1)\n",
    "tweets_df['user_location'] = tweets_df.apply(extract_location,axis=1)\n",
    "tweets_df.head(30)"
   ]
  },
  {
   "cell_type": "code",
   "execution_count": null,
   "metadata": {},
   "outputs": [],
   "source": [
    "tweets_df.info()"
   ]
  },
  {
   "cell_type": "code",
   "execution_count": null,
   "metadata": {},
   "outputs": [],
   "source": [
    "tweets_df = tweets_df[tweets_df.user_location.notnull()]\n",
    "tweets_df.info()"
   ]
  },
  {
   "cell_type": "code",
   "execution_count": null,
   "metadata": {},
   "outputs": [],
   "source": [
    "tweets_df = tweets_df.sample(frac=1).reset_index(drop=True)"
   ]
  },
  {
   "cell_type": "code",
   "execution_count": null,
   "metadata": {},
   "outputs": [],
   "source": [
    "tweets_df.to_csv('random_tweets.csv',index = False)"
   ]
  },
  {
   "cell_type": "code",
   "execution_count": null,
   "metadata": {},
   "outputs": [],
   "source": []
  }
 ],
 "metadata": {
  "kernelspec": {
   "display_name": "Python 3",
   "language": "python",
   "name": "python3"
  },
  "language_info": {
   "codemirror_mode": {
    "name": "ipython",
    "version": 3
   },
   "file_extension": ".py",
   "mimetype": "text/x-python",
   "name": "python",
   "nbconvert_exporter": "python",
   "pygments_lexer": "ipython3",
   "version": "3.6.2"
  }
 },
 "nbformat": 4,
 "nbformat_minor": 4
}
